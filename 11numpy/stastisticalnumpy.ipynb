{
 "cells": [
  {
   "cell_type": "markdown",
   "metadata": {},
   "source": [
    "# some more numpy functions "
   ]
  },
  {
   "cell_type": "markdown",
   "metadata": {},
   "source": [
    "min,max\n",
    "mean\n",
    "median\n",
    "average\n",
    "variance\n",
    "standard deviation"
   ]
  },
  {
   "cell_type": "code",
   "execution_count": 1,
   "metadata": {},
   "outputs": [],
   "source": [
    "import numpy as np"
   ]
  },
  {
   "cell_type": "code",
   "execution_count": 5,
   "metadata": {},
   "outputs": [
    {
     "name": "stdout",
     "output_type": "stream",
     "text": [
      "[[1 2 3 4]\n",
      " [8 9 1 0]]\n",
      "0\n",
      "[1 2 1 0]\n",
      "[4 9]\n"
     ]
    }
   ],
   "source": [
    "a=np.array([[1,2,3,4],[8,9,1,0]])\n",
    "print(a)\n",
    "print(np.min(a))\n",
    "print(np.min(a,axis=0)) # vertical axis\n",
    "print(np.max(a,axis=1)) # horizontal axis"
   ]
  },
  {
   "cell_type": "code",
   "execution_count": 9,
   "metadata": {},
   "outputs": [
    {
     "name": "stdout",
     "output_type": "stream",
     "text": [
      "[[1 2 3 4]\n",
      " [8 9 1 0]]\n",
      "3.5\n",
      "[4.5 5.5 2.  2. ]\n",
      "[2.5 4.5]\n"
     ]
    }
   ],
   "source": [
    "b=np.array([[1,2,3,4],[8,9,1,0]])\n",
    "print(b)\n",
    "mean=np.mean(b)\n",
    "print(mean)\n",
    "\n",
    "print(np.mean(b,axis=0)) # vertical axis\n",
    "print(np.mean(b,axis=1)) # horizontal axis\n"
   ]
  },
  {
   "cell_type": "code",
   "execution_count": 16,
   "metadata": {},
   "outputs": [
    {
     "name": "stdout",
     "output_type": "stream",
     "text": [
      "[1 2 3 4 6]\n",
      "3.0\n"
     ]
    }
   ],
   "source": [
    "c=np.array([1,2,3,4,6])\n",
    "print(c)\n",
    "print(np.median(c)) \n",
    "# median is n+1/2 when n is even\n",
    "# median is n/2 when n is odd"
   ]
  },
  {
   "cell_type": "code",
   "execution_count": 17,
   "metadata": {},
   "outputs": [
    {
     "name": "stdout",
     "output_type": "stream",
     "text": [
      "4.125\n"
     ]
    }
   ],
   "source": [
    "# mean vs average (weighted)\n",
    "w=np.array([1,2,3,4,6])\n",
    "\n",
    "print(np.average(c,weights=w))# weights multiply to corresponding values"
   ]
  },
  {
   "cell_type": "code",
   "execution_count": 21,
   "metadata": {},
   "outputs": [
    {
     "name": "stdout",
     "output_type": "stream",
     "text": [
      "1.7204650534085253\n",
      "variance 2.96\n"
     ]
    }
   ],
   "source": [
    "# standard deviation\n",
    "# sigma=sqrt(sum((x-mean)^2)/n)\n",
    "# variance=sum((x-mean)^2)/n\n",
    "# standard deviation is the square root of variance\n",
    "\n",
    "\n",
    "print(np.std(c))\n",
    "print('variance',np.var(c))"
   ]
  },
  {
   "cell_type": "code",
   "execution_count": null,
   "metadata": {},
   "outputs": [],
   "source": []
  }
 ],
 "metadata": {
  "interpreter": {
   "hash": "a3b2587e33c1234bd696235359e64315ef11aea6b5a439add0b420165d65e3e9"
  },
  "kernelspec": {
   "display_name": "Python 3.9.5 ('base')",
   "language": "python",
   "name": "python3"
  },
  "language_info": {
   "codemirror_mode": {
    "name": "ipython",
    "version": 3
   },
   "file_extension": ".py",
   "mimetype": "text/x-python",
   "name": "python",
   "nbconvert_exporter": "python",
   "pygments_lexer": "ipython3",
   "version": "3.9.5"
  },
  "orig_nbformat": 4
 },
 "nbformat": 4,
 "nbformat_minor": 2
}
